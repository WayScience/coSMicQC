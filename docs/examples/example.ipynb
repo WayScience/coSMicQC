{
 "cells": [
  {
   "cell_type": "code",
   "execution_count": 1,
   "metadata": {},
   "outputs": [],
   "source": [
    "import cosmicqc\n",
    "import pathlib\n",
    "\n",
    "data_path = \"/workspaces/coSMicQC/tests/data/cytotable/NF1_cellpainting_data/Plate_2_with_image_data.parquet\"\n",
    "cosmicqc.SCDataFrame(data=data_path, data_context_dir=pathlib.Path(data_path).parent / \"Plate_2_images\")"
   ]
  },
  {
   "cell_type": "code",
   "execution_count": null,
   "metadata": {},
   "outputs": [],
   "source": []
  }
 ],
 "metadata": {
  "kernelspec": {
   "display_name": "cosmicqc-XYfJzZrp-py3.10",
   "language": "python",
   "name": "python3"
  },
  "language_info": {
   "codemirror_mode": {
    "name": "ipython",
    "version": 3
   },
   "file_extension": ".py",
   "mimetype": "text/x-python",
   "name": "python",
   "nbconvert_exporter": "python",
   "pygments_lexer": "ipython3",
   "version": "3.11.9"
  }
 },
 "nbformat": 4,
 "nbformat_minor": 2
}
